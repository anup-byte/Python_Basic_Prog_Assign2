{
 "cells": [
  {
   "cell_type": "markdown",
   "metadata": {},
   "source": [
    "1.What are the two values of the Boolean data type? How do you write them?\n",
    "\n",
    "Ans :The Python Boolean type has only two possible values:\n",
    "     True\n",
    "     False\n",
    "     The Python Boolean type is one of Python’s built-in data types. It’s used to represent the truth value of        an expression. For example, the expression 1 <= 2 is True, while the expression 0 == 1 is False"
   ]
  },
  {
   "cell_type": "markdown",
   "metadata": {},
   "source": [
    "2. What are the three different types of Boolean operators?\n",
    "Ans:The AND operator (&& or \"and\")\n",
    "    The OR operator (|| or \"or\")\n",
    "    The NOT operator (not)\n"
   ]
  },
  {
   "cell_type": "markdown",
   "metadata": {},
   "source": [
    "3. Make a list of each Boolean operator's truth tables (i.e. every possible combination of Boolean values for\n",
    "   the operator and what it evaluate )\n",
    "Ans:The AND boolean operator is similar to the bitwise AND operator where the operator analyzes the expressions\n",
    "    written on both sides and returns the output.\n",
    "\n",
    "    True and True = True\n",
    "    True and False = False\n",
    "    False and True = False\n",
    "    False and False = False\n",
    "    \n",
    "    The OR operator is similar to the OR bitwise operator. In the bitwise OR, we focus on either of the\n",
    "    bit being 1. Here, we take into account if either of the expression is true or not. If at least one\n",
    "    expression is true, consequently, the result is true.\n",
    "\n",
    "    True or True = True\n",
    "    True or False = True\n",
    "    False or True = True\n",
    "    False or False = False\n",
    "\n",
    "\n",
    "    The NOT operator reverses the result of the boolean expression that follows the operator. It is important\n",
    "    to note that the NOT operator will only reverse the final result of the expression that immediately follows.     Moreover, the NOT operator is denoted by the keyword \"not\".\n",
    "\n",
    "    not(True) = False\n",
    "    not(False) = True\n"
   ]
  },
  {
   "cell_type": "markdown",
   "metadata": {},
   "source": [
    "4. What are the values of the following expressions?\n",
    "(5 > 4) and (3 == 5)\n",
    "not (5 > 4)\n",
    "(5 > 4) or (3 == 5)\n",
    "not ((5 > 4) or (3 == 5))\n",
    "(True and True) and (True == False)\n",
    "(not False) or (not True)\n"
   ]
  },
  {
   "cell_type": "code",
   "execution_count": 1,
   "metadata": {},
   "outputs": [
    {
     "data": {
      "text/plain": [
       "False"
      ]
     },
     "execution_count": 1,
     "metadata": {},
     "output_type": "execute_result"
    }
   ],
   "source": [
    "(5 > 4) and (3 == 5)"
   ]
  },
  {
   "cell_type": "code",
   "execution_count": 2,
   "metadata": {},
   "outputs": [
    {
     "data": {
      "text/plain": [
       "False"
      ]
     },
     "execution_count": 2,
     "metadata": {},
     "output_type": "execute_result"
    }
   ],
   "source": [
    "not (5 > 4)"
   ]
  },
  {
   "cell_type": "code",
   "execution_count": 3,
   "metadata": {},
   "outputs": [
    {
     "data": {
      "text/plain": [
       "True"
      ]
     },
     "execution_count": 3,
     "metadata": {},
     "output_type": "execute_result"
    }
   ],
   "source": [
    "(5 > 4) or (3 == 5)"
   ]
  },
  {
   "cell_type": "code",
   "execution_count": 4,
   "metadata": {},
   "outputs": [
    {
     "data": {
      "text/plain": [
       "False"
      ]
     },
     "execution_count": 4,
     "metadata": {},
     "output_type": "execute_result"
    }
   ],
   "source": [
    "not ((5 > 4) or (3 == 5))"
   ]
  },
  {
   "cell_type": "code",
   "execution_count": 5,
   "metadata": {},
   "outputs": [
    {
     "data": {
      "text/plain": [
       "False"
      ]
     },
     "execution_count": 5,
     "metadata": {},
     "output_type": "execute_result"
    }
   ],
   "source": [
    "(True and True) and (True == False)"
   ]
  },
  {
   "cell_type": "code",
   "execution_count": 6,
   "metadata": {},
   "outputs": [
    {
     "data": {
      "text/plain": [
       "True"
      ]
     },
     "execution_count": 6,
     "metadata": {},
     "output_type": "execute_result"
    }
   ],
   "source": [
    "(not False) or (not True)"
   ]
  },
  {
   "cell_type": "markdown",
   "metadata": {},
   "source": [
    "5. What are the six comparison operators?\n",
    "   \n",
    "==  If the values of two operands are equal, then the condition becomes true.\n",
    "    (a == b) is not true.\n",
    "!=  If values of two operands are not equal, then condition becomes true.\n",
    "    (a != b) is true.\n",
    "<>  If values of two operands are not equal, then condition becomes true.\n",
    "    (a <> b) is true. This is similar to != operator.\n",
    ">   If the value of left operand is greater than the value of right operand, then condition becomes true.\n",
    "    (a > b) is not true.\n",
    "<   If the value of left operand is less than the value of right operand, then condition becomes true.\n",
    "    (a < b) is true.\n",
    ">=  If the value of left operand is greater than or equal to the value of right operand, then condition becomes\n",
    "    true. (a >= b) is not true.\n",
    "<=  If the value of left operand is less than or equal to the value of right operand, then condition becomes\n",
    "    true. (a <= b) is true."
   ]
  },
  {
   "cell_type": "markdown",
   "metadata": {},
   "source": [
    "6. How do you tell the difference between the equal to and assignment operators?Describe a condition and when\n",
    "   you would use one.\n",
    "Ans:Assignment operator is used to assign a value to the variable\n",
    "    example.   a = 20\n",
    "               b = 30\n",
    "               c = 'anup'\n",
    "    Here we are assigning the value to the variable\n",
    "    \n",
    "    Equal to operator is used to check whether the value same or not.\n",
    "              a == b\n",
    "              b == c\n",
    "              c == a\n",
    "\n",
    "                "
   ]
  },
  {
   "cell_type": "markdown",
   "metadata": {},
   "source": [
    "7. Identify the three blocks in this code:\n",
    "spam = 0\n",
    "if spam == 10:\n",
    "print('eggs')\n",
    "if spam > 5:\n",
    "print('bacon')\n",
    "else:\n",
    "print('ham')\n",
    "print('spam')\n",
    "print('spam')\n",
    "\n",
    "Ans:if spam == 10:\n",
    "    print('eggs')\n",
    "    \n",
    "    \n",
    "    if spam > 5:\n",
    "    print('bacon')\n",
    "    \n",
    "    \n",
    "    else:\n",
    "    print('ham')\n",
    "    print('spam')\n",
    "    print('spam')\n",
    "    \n",
    "    "
   ]
  },
  {
   "cell_type": "markdown",
   "metadata": {},
   "source": [
    "8. Write code that prints Hello if 1 is stored in spam, prints Howdy if 2 is stored in spam, and prints\n",
    "   Greetings! if anything else is stored in spam."
   ]
  },
  {
   "cell_type": "code",
   "execution_count": 8,
   "metadata": {},
   "outputs": [
    {
     "name": "stdout",
     "output_type": "stream",
     "text": [
      "Enter the value of Spam  4\n",
      "Greetings!\n"
     ]
    }
   ],
   "source": [
    "spam = int(input(\"Enter the value of Spam  \"))\n",
    "if spam == 1:\n",
    "    print(\"Hello\")\n",
    "    \n",
    "elif spam == 2:\n",
    "    print(\"Howdy\")\n",
    "\n",
    "else:\n",
    "    print(\"Greetings!\")"
   ]
  },
  {
   "cell_type": "markdown",
   "metadata": {},
   "source": [
    "9.If your programme is stuck in an endless loop, what keys you’ll press?\n",
    "Ans:We can press ctrl + c to end the process.If it does not work then we need to open the Task manager and \n",
    "    terminate the process."
   ]
  },
  {
   "cell_type": "markdown",
   "metadata": {},
   "source": [
    "10. How can you tell the difference between break and continue?\n",
    "Ans:The break statement is used to terminate the loop or statement in which it is present. After that, the\n",
    "    control will pass to the statements that are present after the break statement, if available. If the break\n",
    "    statement is present in the nested loop, then it terminates only those loops which contains break statement.\n",
    "    \n",
    "    \n",
    "a = 'anupkumarjha'\n",
    "for i in a: \n",
    "    \n",
    "    print(i) \n",
    "    \n",
    "    \n",
    "    if i == 'p' or i == 'm': \n",
    "        break\n",
    "    \n",
    "print(\"Out of for loop\") \n",
    "print() \n",
    "    \n",
    "     \n",
    "    Continue is also a loop control statement just like the break statement. continue statement is opposite to\n",
    "    that of break statement, instead of terminating the loop, it forces to execute the next iteration of the \n",
    "    loop.As the name suggests the continue statement forces the loop to continue or execute the next iteration.\n",
    "    When the continue statement is executed in the loop, the code inside the loop following the continue \n",
    "    statement will be skipped and the next iteration of the loop will begin. \n",
    "    \n",
    "for i in range(1, 11): \n",
    "    \n",
    "    if i == 6: \n",
    "        continue\n",
    "    else:\n",
    "        print(i, end = \" \")    \n"
   ]
  },
  {
   "cell_type": "markdown",
   "metadata": {},
   "source": [
    "11. In a for loop, what is the difference between range(10), range(0, 10), and range(0, 10, 1)?\n",
    "Ans: range(10)  In this case it will take the value starting from 0 till 10 excluding 10.In this case by default \n",
    "     the step size is 1.\n",
    "    \n",
    "     range(0, 10) In this case it will take the value starting from 0 till 10 excluding 10.In this case by \n",
    "     default the step size is 1.\n",
    "    \n",
    "     range(0, 10, 1)  In this case it will take the value starting from 0 till 10 excluding 10.In this case \n",
    "     the step size is 1.\n",
    "    \n",
    "     In short all three are same.No difference.\n",
    "\n",
    "\n"
   ]
  },
  {
   "cell_type": "code",
   "execution_count": null,
   "metadata": {},
   "outputs": [],
   "source": [
    "12. Write a short program that prints the numbers 1 to 10 using a for loop. Then write an equivalent program\n",
    "    that prints the numbers 1 to 10 using a while loop."
   ]
  },
  {
   "cell_type": "code",
   "execution_count": 9,
   "metadata": {},
   "outputs": [
    {
     "name": "stdout",
     "output_type": "stream",
     "text": [
      "1\n",
      "2\n",
      "3\n",
      "4\n",
      "5\n",
      "6\n",
      "7\n",
      "8\n",
      "9\n",
      "10\n"
     ]
    }
   ],
   "source": [
    "for i in range(1,11):\n",
    "    print(i)"
   ]
  },
  {
   "cell_type": "code",
   "execution_count": 10,
   "metadata": {},
   "outputs": [
    {
     "name": "stdout",
     "output_type": "stream",
     "text": [
      "1\n",
      "2\n",
      "3\n",
      "4\n",
      "5\n",
      "6\n",
      "7\n",
      "8\n",
      "9\n",
      "10\n"
     ]
    }
   ],
   "source": [
    "i = 1\n",
    "while i < 11:\n",
    "    print(i)\n",
    "    i = i + 1\n",
    "    "
   ]
  },
  {
   "cell_type": "markdown",
   "metadata": {},
   "source": [
    "13. If you had a function named bacon() inside a module named spam, how would you call it after importing spam?\n",
    "Ans: import spam\n",
    "     spam.bacon()"
   ]
  }
 ],
 "metadata": {
  "kernelspec": {
   "display_name": "Python 3",
   "language": "python",
   "name": "python3"
  },
  "language_info": {
   "codemirror_mode": {
    "name": "ipython",
    "version": 3
   },
   "file_extension": ".py",
   "mimetype": "text/x-python",
   "name": "python",
   "nbconvert_exporter": "python",
   "pygments_lexer": "ipython3",
   "version": "3.8.5"
  }
 },
 "nbformat": 4,
 "nbformat_minor": 4
}
